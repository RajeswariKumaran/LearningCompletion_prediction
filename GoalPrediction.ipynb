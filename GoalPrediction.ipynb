{
 "cells": [
  {
   "cell_type": "code",
   "execution_count": 43,
   "metadata": {},
   "outputs": [],
   "source": [
    "#scikit\n",
    "from sklearn import linear_model\n",
    "import pandas as pd\n",
    "import os"
   ]
  },
  {
   "cell_type": "code",
   "execution_count": 100,
   "metadata": {},
   "outputs": [],
   "source": [
    "infile = pd.read_csv('Comp_train.csv')"
   ]
  },
  {
   "cell_type": "code",
   "execution_count": 101,
   "metadata": {},
   "outputs": [
    {
     "data": {
      "text/plain": [
       "<bound method DataFrame.info of       Date Month  EmpCount  AssessmentsComplete  AssessmentsEnrolled  \\\n",
       "0   20-Apr   Apr        77                   84                   49   \n",
       "1   06-May   May        76                   90                   51   \n",
       "2   29-May   May        71                   99                   58   \n",
       "3   10-Jun   Jun        73                  103                   62   \n",
       "4   29-Jun   Jun        75                  114                   71   \n",
       "5   26-Jul   Jul        60                  115                   81   \n",
       "6   11-Aug   Aug        65                  156                   86   \n",
       "7   28-Aug   Aug        57                  236                   90   \n",
       "8   06-Sep   Sep        63                  248                   92   \n",
       "9   20-Sep   Sep        60                  268                   94   \n",
       "10  13-Oct   Oct        59                  274                   98   \n",
       "\n",
       "    SkillsCompleted  100%Count  75%Count  \n",
       "0                 4          0         0  \n",
       "1                 4          0         1  \n",
       "2                 4          1         2  \n",
       "3                 5          2         3  \n",
       "4                 5          2         4  \n",
       "5                 5          2         5  \n",
       "6                 7          3         5  \n",
       "7                 8          3         6  \n",
       "8                 8          4         8  \n",
       "9                 9          5        10  \n",
       "10               10          7        13  >"
      ]
     },
     "execution_count": 101,
     "metadata": {},
     "output_type": "execute_result"
    }
   ],
   "source": [
    "infile.info"
   ]
  },
  {
   "cell_type": "code",
   "execution_count": 106,
   "metadata": {},
   "outputs": [
    {
     "name": "stdout",
     "output_type": "stream",
     "text": [
      "                            OLS Regression Results                            \n",
      "==============================================================================\n",
      "Dep. Variable:              100%Count   R-squared:                       0.918\n",
      "Model:                            OLS   Adj. R-squared:                  0.898\n",
      "Method:                 Least Squares   F-statistic:                     45.08\n",
      "Date:                Sun, 21 Mar 2021   Prob (F-statistic):           4.41e-05\n",
      "Time:                        20:49:31   Log-Likelihood:                -9.5119\n",
      "No. Observations:                  11   AIC:                             25.02\n",
      "Df Residuals:                       8   BIC:                             26.22\n",
      "Df Model:                           2                                         \n",
      "Covariance Type:            nonrobust                                         \n",
      "=======================================================================================\n",
      "                          coef    std err          t      P>|t|      [0.025      0.975]\n",
      "---------------------------------------------------------------------------------------\n",
      "const                  -3.8625      0.934     -4.135      0.003      -6.016      -1.709\n",
      "SkillsCompleted         1.4035      0.447      3.137      0.014       0.372       2.435\n",
      "AssessmentsComplete    -0.0142      0.013     -1.118      0.296      -0.043       0.015\n",
      "==============================================================================\n",
      "Omnibus:                        1.936   Durbin-Watson:                   1.335\n",
      "Prob(Omnibus):                  0.380   Jarque-Bera (JB):                1.049\n",
      "Skew:                          -0.417   Prob(JB):                        0.592\n",
      "Kurtosis:                       1.738   Cond. No.                         890.\n",
      "==============================================================================\n",
      "\n",
      "Warnings:\n",
      "[1] Standard Errors assume that the covariance matrix of the errors is correctly specified.\n"
     ]
    }
   ],
   "source": [
    "#I want to find the p-values for 100%Completion, so i am using OLS\n",
    "import statsmodels.api as sm\n",
    "from scipy import stats\n",
    "x = infile.loc[:, ['SkillsCompleted','AssessmentsComplete']]\n",
    "X = x\n",
    "y = infile['100%Count']\n",
    "X2 = sm.add_constant(X)\n",
    "est = sm.OLS(y, X2)\n",
    "est2 = est.fit()\n",
    "print(est2.summary())"
   ]
  },
  {
   "cell_type": "markdown",
   "metadata": {},
   "source": [
    "OLS Regression Results                            \n",
    "==============================================================================\n",
    "Dep. Variable:              100%Count   R-squared:                       0.925\n",
    "Model:                            OLS   Adj. R-squared:                  0.875\n",
    "Method:                 Least Squares   F-statistic:                     18.47\n",
    "Date:                Sun, 21 Mar 2021   Prob (F-statistic):            0.00160\n",
    "Time:                        20:44:10   Log-Likelihood:                -9.0636\n",
    "No. Observations:                  11   AIC:                             28.13\n",
    "Df Residuals:                       6   BIC:                             30.12\n",
    "Df Model:                           4                                         \n",
    "Covariance Type:            nonrobust                                         \n",
    "=======================================================================================\n",
    "                          coef    std err          t      P>|t|      [0.025      0.975]\n",
    "---------------------------------------------------------------------------------------\n",
    "const                  -8.1519      7.521     -1.084      0.320     -26.555      10.251\n",
    "EmpCount                0.0406      0.078      0.519      0.622      -0.151       0.232\n",
    "AssessmentsEnrolled     0.0350      0.049      0.714      0.502      -0.085       0.155\n",
    "SkillsCompleted         1.1712      0.597      1.960      0.098      -0.291       2.633\n",
    "AssessmentsComplete    -0.0119      0.015     -0.811      0.448      -0.048       0.024\n",
    "==============================================================================\n",
    "Omnibus:                        0.437   Durbin-Watson:                   1.274\n",
    "Prob(Omnibus):                  0.804   Jarque-Bera (JB):                0.496\n",
    "Skew:                          -0.152   Prob(JB):                        0.780\n",
    "Kurtosis:                       2.004   Cond. No.                     6.78e+03\n",
    "==============================================================================\n",
    "Adj-r2: 0.875, removing EmpCount corresponding to highest p-value\n",
    "\n",
    "OLS Regression Results                            \n",
    "==============================================================================\n",
    "Dep. Variable:              100%Count   R-squared:                       0.921\n",
    "Model:                            OLS   Adj. R-squared:                  0.888\n",
    "Method:                 Least Squares   F-statistic:                     27.39\n",
    "Date:                Sun, 21 Mar 2021   Prob (F-statistic):           0.000306\n",
    "Time:                        20:45:34   Log-Likelihood:                -9.3055\n",
    "No. Observations:                  11   AIC:                             26.61\n",
    "Df Residuals:                       7   BIC:                             28.20\n",
    "Df Model:                           3                                         \n",
    "Covariance Type:            nonrobust                                         \n",
    "=======================================================================================\n",
    "                          coef    std err          t      P>|t|      [0.025      0.975]\n",
    "---------------------------------------------------------------------------------------\n",
    "const                  -4.3121      1.310     -3.292      0.013      -7.409      -1.215\n",
    "AssessmentsEnrolled     0.0166      0.032      0.517      0.621      -0.059       0.092\n",
    "SkillsCompleted         1.2688      0.537      2.364      0.050      -0.000       2.538\n",
    "AssessmentsComplete    -0.0140      0.013     -1.047      0.330      -0.045       0.018\n",
    "==============================================================================\n",
    "Omnibus:                        0.767   Durbin-Watson:                   1.177\n",
    "Prob(Omnibus):                  0.682   Jarque-Bera (JB):                0.695\n",
    "Skew:                          -0.426   Prob(JB):                        0.706\n",
    "Kurtosis:                       2.111   Cond. No.                     1.20e+03\n",
    "==============================================================================\n",
    "Adj-r2: 0.888, so accuracy is increasing; removing AssessmentsEnrolled corresponding to highest p-value\n",
    "\n",
    "OLS Regression Results                            \n",
    "==============================================================================\n",
    "Dep. Variable:              100%Count   R-squared:                       0.918\n",
    "Model:                            OLS   Adj. R-squared:                  0.898\n",
    "Method:                 Least Squares   F-statistic:                     45.08\n",
    "Date:                Sun, 21 Mar 2021   Prob (F-statistic):           4.41e-05\n",
    "Time:                        20:46:56   Log-Likelihood:                -9.5119\n",
    "No. Observations:                  11   AIC:                             25.02\n",
    "Df Residuals:                       8   BIC:                             26.22\n",
    "Df Model:                           2                                         \n",
    "Covariance Type:            nonrobust                                         \n",
    "=======================================================================================\n",
    "                          coef    std err          t      P>|t|      [0.025      0.975]\n",
    "---------------------------------------------------------------------------------------\n",
    "const                  -3.8625      0.934     -4.135      0.003      -6.016      -1.709\n",
    "SkillsCompleted         1.4035      0.447      3.137      0.014       0.372       2.435\n",
    "AssessmentsComplete    -0.0142      0.013     -1.118      0.296      -0.043       0.015\n",
    "==============================================================================\n",
    "Omnibus:                        1.936   Durbin-Watson:                   1.335\n",
    "Prob(Omnibus):                  0.380   Jarque-Bera (JB):                1.049\n",
    "Skew:                          -0.417   Prob(JB):                        0.592\n",
    "Kurtosis:                       1.738   Cond. No.                         890.\n",
    "==============================================================================\n",
    "Adj-r2: 0.898, so accuracy is increasing; removing AssessmentsComplete corresponding to highest p-value\n",
    "\n",
    "OLS Regression Results                            \n",
    "==============================================================================\n",
    "Dep. Variable:              100%Count   R-squared:                       0.906\n",
    "Model:                            OLS   Adj. R-squared:                  0.895\n",
    "Method:                 Least Squares   F-statistic:                     86.50\n",
    "Date:                Sun, 21 Mar 2021   Prob (F-statistic):           6.52e-06\n",
    "Time:                        20:48:03   Log-Likelihood:                -10.310\n",
    "No. Observations:                  11   AIC:                             24.62\n",
    "Df Residuals:                       9   BIC:                             25.42\n",
    "Df Model:                           1                                         \n",
    "Covariance Type:            nonrobust                                         \n",
    "===================================================================================\n",
    "                      coef    std err          t      P>|t|      [0.025      0.975]\n",
    "-----------------------------------------------------------------------------------\n",
    "const              -3.1038      0.651     -4.770      0.001      -4.576      -1.632\n",
    "SkillsCompleted     0.9151      0.098      9.300      0.000       0.693       1.138\n",
    "==============================================================================\n",
    "Omnibus:                        0.394   Durbin-Watson:                   1.124\n",
    "Prob(Omnibus):                  0.821   Jarque-Bera (JB):                0.479\n",
    "Skew:                          -0.306   Prob(JB):                        0.787\n",
    "Kurtosis:                       2.180   Cond. No.                         21.3\n",
    "==============================================================================\n",
    "p-value is below 0.05 but Adj-r2 has dropped to 0.895 from 0.898 so have to retain AssessmentsComplete"
   ]
  },
  {
   "cell_type": "code",
   "execution_count": 111,
   "metadata": {},
   "outputs": [
    {
     "name": "stdout",
     "output_type": "stream",
     "text": [
      "                            OLS Regression Results                            \n",
      "==============================================================================\n",
      "Dep. Variable:               75%Count   R-squared:                       0.908\n",
      "Model:                            OLS   Adj. R-squared:                  0.886\n",
      "Method:                 Least Squares   F-statistic:                     39.70\n",
      "Date:                Sun, 21 Mar 2021   Prob (F-statistic):           7.02e-05\n",
      "Time:                        20:58:03   Log-Likelihood:                -16.959\n",
      "No. Observations:                  11   AIC:                             39.92\n",
      "Df Residuals:                       8   BIC:                             41.11\n",
      "Df Model:                           2                                         \n",
      "Covariance Type:            nonrobust                                         \n",
      "=======================================================================================\n",
      "                          coef    std err          t      P>|t|      [0.025      0.975]\n",
      "---------------------------------------------------------------------------------------\n",
      "const                  -7.1502      2.098     -3.408      0.009     -11.988      -2.312\n",
      "SkillsCompleted         1.2179      0.497      2.453      0.040       0.073       2.363\n",
      "AssessmentsEnrolled     0.0620      0.060      1.031      0.333      -0.077       0.201\n",
      "==============================================================================\n",
      "Omnibus:                        0.763   Durbin-Watson:                   1.117\n",
      "Prob(Omnibus):                  0.683   Jarque-Bera (JB):                0.478\n",
      "Skew:                          -0.456   Prob(JB):                        0.788\n",
      "Kurtosis:                       2.543   Cond. No.                         412.\n",
      "==============================================================================\n",
      "\n",
      "Warnings:\n",
      "[1] Standard Errors assume that the covariance matrix of the errors is correctly specified.\n"
     ]
    }
   ],
   "source": [
    "#I want to find the p-values for 75%Completion, so i am using OLS\n",
    "import statsmodels.api as sm\n",
    "from scipy import stats\n",
    "x = infile.loc[:, ['SkillsCompleted','AssessmentsEnrolled']]\n",
    "X = x\n",
    "y = infile['75%Count']\n",
    "X2 = sm.add_constant(X)\n",
    "est = sm.OLS(y, X2)\n",
    "est2 = est.fit()\n",
    "print(est2.summary())"
   ]
  },
  {
   "cell_type": "markdown",
   "metadata": {},
   "source": [
    "                            OLS Regression Results                            \n",
    "==============================================================================\n",
    "Dep. Variable:               75%Count   R-squared:                       0.910\n",
    "Model:                            OLS   Adj. R-squared:                  0.849\n",
    "Method:                 Least Squares   F-statistic:                     15.11\n",
    "Date:                Sun, 21 Mar 2021   Prob (F-statistic):            0.00275\n",
    "Time:                        20:50:20   Log-Likelihood:                -16.885\n",
    "No. Observations:                  11   AIC:                             43.77\n",
    "Df Residuals:                       6   BIC:                             45.76\n",
    "Df Model:                           4                                         \n",
    "Covariance Type:            nonrobust                                         \n",
    "=======================================================================================\n",
    "                          coef    std err          t      P>|t|      [0.025      0.975]\n",
    "---------------------------------------------------------------------------------------\n",
    "const                 -11.0851     15.313     -0.724      0.496     -48.555      26.385\n",
    "EmpCount                0.0394      0.159      0.248      0.813      -0.350       0.429\n",
    "AssessmentsEnrolled     0.0796      0.100      0.796      0.456      -0.165       0.324\n",
    "AssessmentsComplete    -0.0020      0.030     -0.069      0.947      -0.075       0.071\n",
    "SkillsCompleted         1.2657      1.217      1.040      0.338      -1.711       4.242\n",
    "==============================================================================\n",
    "Omnibus:                        0.476   Durbin-Watson:                   1.223\n",
    "Prob(Omnibus):                  0.788   Jarque-Bera (JB):                0.429\n",
    "Skew:                          -0.376   Prob(JB):                        0.807\n",
    "Kurtosis:                       2.392   Cond. No.                     6.78e+03\n",
    "==============================================================================\n",
    "Adj-r2: 0.849, dropping AssessmentsComplete corresponding to highest p-value.\n",
    "\n",
    "                            OLS Regression Results                            \n",
    "==============================================================================\n",
    "Dep. Variable:               75%Count   R-squared:                       0.910\n",
    "Model:                            OLS   Adj. R-squared:                  0.871\n",
    "Method:                 Least Squares   F-statistic:                     23.48\n",
    "Date:                Sun, 21 Mar 2021   Prob (F-statistic):           0.000498\n",
    "Time:                        20:52:54   Log-Likelihood:                -16.889\n",
    "No. Observations:                  11   AIC:                             41.78\n",
    "Df Residuals:                       7   BIC:                             43.37\n",
    "Df Model:                           3                                         \n",
    "Covariance Type:            nonrobust                                         \n",
    "=======================================================================================\n",
    "                          coef    std err          t      P>|t|      [0.025      0.975]\n",
    "---------------------------------------------------------------------------------------\n",
    "const                 -11.2715     13.959     -0.807      0.446     -44.278      21.735\n",
    "EmpCount                0.0424      0.142      0.299      0.774      -0.293       0.378\n",
    "AssessmentsEnrolled     0.0811      0.090      0.898      0.399      -0.132       0.295\n",
    "SkillsCompleted         1.1921      0.534      2.231      0.061      -0.072       2.456\n",
    "==============================================================================\n",
    "Omnibus:                        0.361   Durbin-Watson:                   1.206\n",
    "Prob(Omnibus):                  0.835   Jarque-Bera (JB):                0.365\n",
    "Skew:                          -0.327   Prob(JB):                        0.833\n",
    "Kurtosis:                       2.393   Cond. No.                     3.34e+03\n",
    "==============================================================================\n",
    "Adj-r2: 0.871 so accuracy is increasing, dropping EmpCount corresponding to highest p-value. he condition number is large, 1.27e+03. This might indicate that there are\n",
    "strong multicollinearity or other numerical problems.\n",
    "\n",
    "                            OLS Regression Results                            \n",
    "==============================================================================\n",
    "Dep. Variable:               75%Count   R-squared:                       0.908\n",
    "Model:                            OLS   Adj. R-squared:                  0.886\n",
    "Method:                 Least Squares   F-statistic:                     39.70\n",
    "Date:                Sun, 21 Mar 2021   Prob (F-statistic):           7.02e-05\n",
    "Time:                        20:54:08   Log-Likelihood:                -16.959\n",
    "No. Observations:                  11   AIC:                             39.92\n",
    "Df Residuals:                       8   BIC:                             41.11\n",
    "Df Model:                           2                                         \n",
    "Covariance Type:            nonrobust                                         \n",
    "=======================================================================================\n",
    "                          coef    std err          t      P>|t|      [0.025      0.975]\n",
    "---------------------------------------------------------------------------------------\n",
    "const                  -7.1502      2.098     -3.408      0.009     -11.988      -2.312\n",
    "AssessmentsEnrolled     0.0620      0.060      1.031      0.333      -0.077       0.201\n",
    "SkillsCompleted         1.2179      0.497      2.453      0.040       0.073       2.363\n",
    "==============================================================================\n",
    "Omnibus:                        0.763   Durbin-Watson:                   1.117\n",
    "Prob(Omnibus):                  0.683   Jarque-Bera (JB):                0.478\n",
    "Skew:                          -0.456   Prob(JB):                        0.788\n",
    "Kurtosis:                       2.543   Cond. No.                         412.\n",
    "==============================================================================\n",
    "Adj-r2: 0.886 so accuracy is increasing, dropping AssessmentsEnrolled corresponding to highest p-value\n",
    "    \n",
    "                            OLS Regression Results                            \n",
    "==============================================================================\n",
    "Dep. Variable:               75%Count   R-squared:                       0.896\n",
    "Model:                            OLS   Adj. R-squared:                  0.885\n",
    "Method:                 Least Squares   F-statistic:                     77.79\n",
    "Date:                Sun, 21 Mar 2021   Prob (F-statistic):           1.01e-05\n",
    "Time:                        20:56:06   Log-Likelihood:                -17.646\n",
    "No. Observations:                  11   AIC:                             39.29\n",
    "Df Residuals:                       9   BIC:                             40.09\n",
    "Df Model:                           1                                         \n",
    "Covariance Type:            nonrobust                                         \n",
    "===================================================================================\n",
    "                      coef    std err          t      P>|t|      [0.025      0.975]\n",
    "-----------------------------------------------------------------------------------\n",
    "const              -5.4226      1.268     -4.278      0.002      -8.290      -2.555\n",
    "SkillsCompleted     1.6906      0.192      8.820      0.000       1.257       2.124\n",
    "==============================================================================\n",
    "Omnibus:                        0.244   Durbin-Watson:                   1.393\n",
    "Prob(Omnibus):                  0.885   Jarque-Bera (JB):                0.407\n",
    "Skew:                          -0.115   Prob(JB):                        0.816\n",
    "Kurtosis:                       2.087   Cond. No.                         21.3\n",
    "==============================================================================\n",
    "\n",
    "    \n",
    "p-value has come to below 0.05 but adj-r2 has dropped to 0.885 from 0.886 so retaining assessmentsenrolled\n"
   ]
  },
  {
   "cell_type": "code",
   "execution_count": 113,
   "metadata": {},
   "outputs": [],
   "source": [
    "lmod_100=linear_model.LinearRegression()"
   ]
  },
  {
   "cell_type": "code",
   "execution_count": 55,
   "metadata": {},
   "outputs": [],
   "source": [
    "from sklearn.feature_selection import RFE"
   ]
  },
  {
   "cell_type": "code",
   "execution_count": 129,
   "metadata": {},
   "outputs": [
    {
     "data": {
      "text/html": [
       "<div>\n",
       "<style scoped>\n",
       "    .dataframe tbody tr th:only-of-type {\n",
       "        vertical-align: middle;\n",
       "    }\n",
       "\n",
       "    .dataframe tbody tr th {\n",
       "        vertical-align: top;\n",
       "    }\n",
       "\n",
       "    .dataframe thead th {\n",
       "        text-align: right;\n",
       "    }\n",
       "</style>\n",
       "<table border=\"1\" class=\"dataframe\">\n",
       "  <thead>\n",
       "    <tr style=\"text-align: right;\">\n",
       "      <th></th>\n",
       "      <th>0</th>\n",
       "      <th>1</th>\n",
       "      <th>2</th>\n",
       "    </tr>\n",
       "  </thead>\n",
       "  <tbody>\n",
       "    <tr>\n",
       "      <td>Feature</td>\n",
       "      <td>AssessmentsComplete</td>\n",
       "      <td>SkillsCompleted</td>\n",
       "      <td>AssessmentsEnrolled</td>\n",
       "    </tr>\n",
       "    <tr>\n",
       "      <td>Ranking</td>\n",
       "      <td>2</td>\n",
       "      <td>1</td>\n",
       "      <td>1</td>\n",
       "    </tr>\n",
       "  </tbody>\n",
       "</table>\n",
       "</div>"
      ],
      "text/plain": [
       "                           0                1                    2\n",
       "Feature  AssessmentsComplete  SkillsCompleted  AssessmentsEnrolled\n",
       "Ranking                    2                1                    1"
      ]
     },
     "execution_count": 129,
     "metadata": {},
     "output_type": "execute_result"
    }
   ],
   "source": [
    "# first create the model with all input variables that matter\n",
    "rfe = RFE(lmod_100,2) ### 2<-- We are giving instruction to the RFE to identify top 2 var\n",
    "# start with top 25%\n",
    "x = infile.loc[:, ['AssessmentsComplete','SkillsCompleted','AssessmentsEnrolled']]\n",
    "y = infile['100%Count']\n",
    "rfe.fit(x,y) \n",
    "out = pd.DataFrame() \n",
    "out['Feature'] = x.columns \n",
    "out['Ranking'] = rfe.ranking_ \n",
    "out.T"
   ]
  },
  {
   "cell_type": "markdown",
   "metadata": {},
   "source": [
    "Through p-value, SkillsCompleted and AssessmentsComplete were shown as significant whereas RFE shows \n",
    "SkillsCompleted and AssessmentsEnrolled as top ranking. Create model with all 3"
   ]
  },
  {
   "cell_type": "code",
   "execution_count": 131,
   "metadata": {},
   "outputs": [],
   "source": [
    "#rfe.transform(x)"
   ]
  },
  {
   "cell_type": "code",
   "execution_count": 144,
   "metadata": {},
   "outputs": [],
   "source": [
    "# x is dataframe, y is series which means a single column array\n",
    "x = infile.loc[:, ['SkillsCompleted','AssessmentsEnrolled','AssessmentsComplete']]\n",
    "# loc is to bring a dataframe, : means all, lhs is rows and rhs is columns\n",
    "y = infile['100%Count']"
   ]
  },
  {
   "cell_type": "code",
   "execution_count": 145,
   "metadata": {},
   "outputs": [
    {
     "data": {
      "text/plain": [
       "LinearRegression(copy_X=True, fit_intercept=True, n_jobs=None, normalize=False)"
      ]
     },
     "execution_count": 145,
     "metadata": {},
     "output_type": "execute_result"
    }
   ],
   "source": [
    "lmod_100.fit(x,y)"
   ]
  },
  {
   "cell_type": "code",
   "execution_count": 146,
   "metadata": {},
   "outputs": [],
   "source": [
    "HundredCount = lmod_100.predict(x)"
   ]
  },
  {
   "cell_type": "code",
   "execution_count": 147,
   "metadata": {},
   "outputs": [
    {
     "data": {
      "text/plain": [
       "array([0.40490676, 0.354406  , 0.34505459, 1.62450134, 1.62044959,\n",
       "       1.77249883, 3.82123904, 4.04047777, 3.90627638, 4.92932157,\n",
       "       6.18086811])"
      ]
     },
     "execution_count": 147,
     "metadata": {},
     "output_type": "execute_result"
    }
   ],
   "source": [
    "HundredCount"
   ]
  },
  {
   "cell_type": "code",
   "execution_count": 148,
   "metadata": {},
   "outputs": [],
   "source": [
    "from sklearn.metrics import r2_score"
   ]
  },
  {
   "cell_type": "code",
   "execution_count": 149,
   "metadata": {},
   "outputs": [],
   "source": [
    "r2_100 = r2_score(y,HundredCount)"
   ]
  },
  {
   "cell_type": "code",
   "execution_count": 150,
   "metadata": {},
   "outputs": [
    {
     "name": "stdout",
     "output_type": "stream",
     "text": [
      "0.9214935543349803\n"
     ]
    }
   ],
   "source": [
    "print(r2_100)"
   ]
  },
  {
   "cell_type": "code",
   "execution_count": 151,
   "metadata": {},
   "outputs": [
    {
     "name": "stdout",
     "output_type": "stream",
     "text": [
      "0.9214935543349803 0.8878479347642575\n"
     ]
    }
   ],
   "source": [
    "adjr2_100 = 1 - (1-r2_100)*(len(y)-1)/ (len(y)-1-x.shape[1]) \n",
    "print(r2_100,adjr2_100)"
   ]
  },
  {
   "cell_type": "code",
   "execution_count": 153,
   "metadata": {},
   "outputs": [],
   "source": [
    "lmod_75=linear_model.LinearRegression()"
   ]
  },
  {
   "cell_type": "code",
   "execution_count": 154,
   "metadata": {},
   "outputs": [
    {
     "data": {
      "text/html": [
       "<div>\n",
       "<style scoped>\n",
       "    .dataframe tbody tr th:only-of-type {\n",
       "        vertical-align: middle;\n",
       "    }\n",
       "\n",
       "    .dataframe tbody tr th {\n",
       "        vertical-align: top;\n",
       "    }\n",
       "\n",
       "    .dataframe thead th {\n",
       "        text-align: right;\n",
       "    }\n",
       "</style>\n",
       "<table border=\"1\" class=\"dataframe\">\n",
       "  <thead>\n",
       "    <tr style=\"text-align: right;\">\n",
       "      <th></th>\n",
       "      <th>0</th>\n",
       "      <th>1</th>\n",
       "      <th>2</th>\n",
       "    </tr>\n",
       "  </thead>\n",
       "  <tbody>\n",
       "    <tr>\n",
       "      <td>Feature</td>\n",
       "      <td>AssessmentsComplete</td>\n",
       "      <td>SkillsCompleted</td>\n",
       "      <td>AssessmentsEnrolled</td>\n",
       "    </tr>\n",
       "    <tr>\n",
       "      <td>Ranking</td>\n",
       "      <td>2</td>\n",
       "      <td>1</td>\n",
       "      <td>1</td>\n",
       "    </tr>\n",
       "  </tbody>\n",
       "</table>\n",
       "</div>"
      ],
      "text/plain": [
       "                           0                1                    2\n",
       "Feature  AssessmentsComplete  SkillsCompleted  AssessmentsEnrolled\n",
       "Ranking                    2                1                    1"
      ]
     },
     "execution_count": 154,
     "metadata": {},
     "output_type": "execute_result"
    }
   ],
   "source": [
    "# find rfe for 75%Count\n",
    "rfe = RFE(lmod_75,2) ### 2<-- We are giving instruction to the RFE to identify top 2 var\n",
    "# start with top 25%\n",
    "x = infile.loc[:, ['AssessmentsComplete','SkillsCompleted','AssessmentsEnrolled']]\n",
    "y = infile['75%Count']\n",
    "rfe.fit(x,y) \n",
    "out = pd.DataFrame() \n",
    "out['Feature'] = x.columns \n",
    "out['Ranking'] = rfe.ranking_ \n",
    "out.T"
   ]
  },
  {
   "cell_type": "markdown",
   "metadata": {},
   "source": [
    "Through p-value, SkillsCompleted and AssessmentsEnrolled were shown as significant and RFE also shows \n",
    "SkillsCompleted and AssessmentsEnrolled as top ranking. Create model with these 2"
   ]
  },
  {
   "cell_type": "code",
   "execution_count": 168,
   "metadata": {},
   "outputs": [],
   "source": [
    "# retain x, change y to get prediction for count of employees achieving 75% goal\n",
    "y = infile['75%Count']\n",
    "x = infile.loc[:, ['SkillsCompleted','AssessmentsEnrolled']]"
   ]
  },
  {
   "cell_type": "code",
   "execution_count": 169,
   "metadata": {},
   "outputs": [
    {
     "data": {
      "text/plain": [
       "LinearRegression(copy_X=True, fit_intercept=True, n_jobs=None, normalize=False)"
      ]
     },
     "execution_count": 169,
     "metadata": {},
     "output_type": "execute_result"
    }
   ],
   "source": [
    "lmod_75.fit(x,y)"
   ]
  },
  {
   "cell_type": "code",
   "execution_count": 170,
   "metadata": {},
   "outputs": [],
   "source": [
    "SeventyfiveCount = lmod_75.predict(x)"
   ]
  },
  {
   "cell_type": "code",
   "execution_count": 171,
   "metadata": {},
   "outputs": [
    {
     "data": {
      "text/plain": [
       "array([ 0.76133874,  0.88542395,  1.31972218,  2.78576423,  3.34414767,\n",
       "        3.96457372,  6.71053   ,  8.17657204,  8.30065725,  9.64261409,\n",
       "       11.10865613])"
      ]
     },
     "execution_count": 171,
     "metadata": {},
     "output_type": "execute_result"
    }
   ],
   "source": [
    "SeventyfiveCount"
   ]
  },
  {
   "cell_type": "code",
   "execution_count": 172,
   "metadata": {},
   "outputs": [],
   "source": [
    "r2_75 = r2_score(y,SeventyfiveCount)"
   ]
  },
  {
   "cell_type": "code",
   "execution_count": 173,
   "metadata": {},
   "outputs": [
    {
     "name": "stdout",
     "output_type": "stream",
     "text": [
      "0.9084697882284019\n"
     ]
    }
   ],
   "source": [
    "print(r2_75)"
   ]
  },
  {
   "cell_type": "code",
   "execution_count": 174,
   "metadata": {},
   "outputs": [
    {
     "name": "stdout",
     "output_type": "stream",
     "text": [
      "0.9084697882284019 0.8855872352855023\n"
     ]
    }
   ],
   "source": [
    "adjr2_75 = 1 - (1-r2_75)*(len(y)-1)/ (len(y)-1-x.shape[1]) \n",
    "print(r2_75,adjr2_75)"
   ]
  },
  {
   "cell_type": "code",
   "execution_count": null,
   "metadata": {},
   "outputs": [],
   "source": [
    "#0.9087731032169287 0.8696758617384697"
   ]
  },
  {
   "cell_type": "code",
   "execution_count": 185,
   "metadata": {},
   "outputs": [],
   "source": [
    "testfile = pd.read_csv('Comp_test.csv')"
   ]
  },
  {
   "cell_type": "code",
   "execution_count": 193,
   "metadata": {},
   "outputs": [
    {
     "data": {
      "text/html": [
       "<div>\n",
       "<style scoped>\n",
       "    .dataframe tbody tr th:only-of-type {\n",
       "        vertical-align: middle;\n",
       "    }\n",
       "\n",
       "    .dataframe tbody tr th {\n",
       "        vertical-align: top;\n",
       "    }\n",
       "\n",
       "    .dataframe thead th {\n",
       "        text-align: right;\n",
       "    }\n",
       "</style>\n",
       "<table border=\"1\" class=\"dataframe\">\n",
       "  <thead>\n",
       "    <tr style=\"text-align: right;\">\n",
       "      <th></th>\n",
       "      <th>Date</th>\n",
       "      <th>Month</th>\n",
       "      <th>EmpCount</th>\n",
       "      <th>SkillsCompleted</th>\n",
       "      <th>AssessmentsComplete</th>\n",
       "      <th>AssessmentsEnrolled</th>\n",
       "      <th>100%Count</th>\n",
       "      <th>75%Count</th>\n",
       "    </tr>\n",
       "  </thead>\n",
       "  <tbody>\n",
       "    <tr>\n",
       "      <td>0</td>\n",
       "      <td>30-Oct</td>\n",
       "      <td>Oct</td>\n",
       "      <td>60</td>\n",
       "      <td>11</td>\n",
       "      <td>295</td>\n",
       "      <td>103</td>\n",
       "      <td>10</td>\n",
       "      <td>12</td>\n",
       "    </tr>\n",
       "    <tr>\n",
       "      <td>1</td>\n",
       "      <td>11-Nov</td>\n",
       "      <td>Nov</td>\n",
       "      <td>60</td>\n",
       "      <td>11</td>\n",
       "      <td>325</td>\n",
       "      <td>126</td>\n",
       "      <td>11</td>\n",
       "      <td>16</td>\n",
       "    </tr>\n",
       "    <tr>\n",
       "      <td>2</td>\n",
       "      <td>30-Nov</td>\n",
       "      <td>Nov</td>\n",
       "      <td>60</td>\n",
       "      <td>12</td>\n",
       "      <td>383</td>\n",
       "      <td>134</td>\n",
       "      <td>12</td>\n",
       "      <td>18</td>\n",
       "    </tr>\n",
       "    <tr>\n",
       "      <td>3</td>\n",
       "      <td>15-Dec</td>\n",
       "      <td>Dec</td>\n",
       "      <td>60</td>\n",
       "      <td>12</td>\n",
       "      <td>421</td>\n",
       "      <td>148</td>\n",
       "      <td>13</td>\n",
       "      <td>21</td>\n",
       "    </tr>\n",
       "  </tbody>\n",
       "</table>\n",
       "</div>"
      ],
      "text/plain": [
       "     Date Month  EmpCount  SkillsCompleted  AssessmentsComplete  \\\n",
       "0  30-Oct   Oct        60               11                  295   \n",
       "1  11-Nov   Nov        60               11                  325   \n",
       "2  30-Nov   Nov        60               12                  383   \n",
       "3  15-Dec   Dec        60               12                  421   \n",
       "\n",
       "   AssessmentsEnrolled  100%Count  75%Count  \n",
       "0                  103         10        12  \n",
       "1                  126         11        16  \n",
       "2                  134         12        18  \n",
       "3                  148         13        21  "
      ]
     },
     "execution_count": 193,
     "metadata": {},
     "output_type": "execute_result"
    }
   ],
   "source": [
    "testfile"
   ]
  },
  {
   "cell_type": "code",
   "execution_count": 187,
   "metadata": {},
   "outputs": [],
   "source": [
    "xtest = testfile.loc[:, ['SkillsCompleted','AssessmentsComplete','AssessmentsEnrolled']]"
   ]
  },
  {
   "cell_type": "code",
   "execution_count": 188,
   "metadata": {},
   "outputs": [],
   "source": [
    "HundredTest=lmod_100.predict(xtest)"
   ]
  },
  {
   "cell_type": "code",
   "execution_count": 189,
   "metadata": {},
   "outputs": [
    {
     "data": {
      "text/plain": [
       "array([13.10537069, 13.2825163 , 15.4025591 , 15.83805513])"
      ]
     },
     "execution_count": 189,
     "metadata": {},
     "output_type": "execute_result"
    }
   ],
   "source": [
    "HundredTest"
   ]
  },
  {
   "cell_type": "code",
   "execution_count": 194,
   "metadata": {},
   "outputs": [],
   "source": [
    "xtest = testfile.loc[:, ['SkillsCompleted','AssessmentsEnrolled']]"
   ]
  },
  {
   "cell_type": "code",
   "execution_count": 195,
   "metadata": {},
   "outputs": [],
   "source": [
    "SeventyfiveTest=lmod_75.predict(xtest)"
   ]
  },
  {
   "cell_type": "code",
   "execution_count": 196,
   "metadata": {},
   "outputs": [
    {
     "data": {
      "text/plain": [
       "array([12.63674078, 14.06372069, 15.77793316, 16.64652962])"
      ]
     },
     "execution_count": 196,
     "metadata": {},
     "output_type": "execute_result"
    }
   ],
   "source": [
    "SeventyfiveTest"
   ]
  },
  {
   "cell_type": "code",
   "execution_count": 34,
   "metadata": {},
   "outputs": [
    {
     "data": {
      "text/html": [
       "<div>\n",
       "<style scoped>\n",
       "    .dataframe tbody tr th:only-of-type {\n",
       "        vertical-align: middle;\n",
       "    }\n",
       "\n",
       "    .dataframe tbody tr th {\n",
       "        vertical-align: top;\n",
       "    }\n",
       "\n",
       "    .dataframe thead th {\n",
       "        text-align: right;\n",
       "    }\n",
       "</style>\n",
       "<table border=\"1\" class=\"dataframe\">\n",
       "  <thead>\n",
       "    <tr style=\"text-align: right;\">\n",
       "      <th></th>\n",
       "      <th>0</th>\n",
       "    </tr>\n",
       "  </thead>\n",
       "  <tbody>\n",
       "    <tr>\n",
       "      <td>0</td>\n",
       "      <td>6.131146</td>\n",
       "    </tr>\n",
       "    <tr>\n",
       "      <td>1</td>\n",
       "      <td>9.195098</td>\n",
       "    </tr>\n",
       "    <tr>\n",
       "      <td>2</td>\n",
       "      <td>10.554283</td>\n",
       "    </tr>\n",
       "  </tbody>\n",
       "</table>\n",
       "</div>"
      ],
      "text/plain": [
       "           0\n",
       "0   6.131146\n",
       "1   9.195098\n",
       "2  10.554283"
      ]
     },
     "execution_count": 34,
     "metadata": {},
     "output_type": "execute_result"
    }
   ],
   "source": [
    "pd.DataFrame(HundredTest)"
   ]
  },
  {
   "cell_type": "code",
   "execution_count": 35,
   "metadata": {},
   "outputs": [
    {
     "data": {
      "text/html": [
       "<div>\n",
       "<style scoped>\n",
       "    .dataframe tbody tr th:only-of-type {\n",
       "        vertical-align: middle;\n",
       "    }\n",
       "\n",
       "    .dataframe tbody tr th {\n",
       "        vertical-align: top;\n",
       "    }\n",
       "\n",
       "    .dataframe thead th {\n",
       "        text-align: right;\n",
       "    }\n",
       "</style>\n",
       "<table border=\"1\" class=\"dataframe\">\n",
       "  <thead>\n",
       "    <tr style=\"text-align: right;\">\n",
       "      <th></th>\n",
       "      <th>0</th>\n",
       "      <th>100%Count</th>\n",
       "      <th>75%Count</th>\n",
       "      <th>AssessmentsComplete</th>\n",
       "      <th>AssessmentsEnrolled</th>\n",
       "      <th>Date</th>\n",
       "      <th>EmpCount</th>\n",
       "      <th>Month</th>\n",
       "    </tr>\n",
       "  </thead>\n",
       "  <tbody>\n",
       "    <tr>\n",
       "      <td>0</td>\n",
       "      <td>NaN</td>\n",
       "      <td>NaN</td>\n",
       "      <td>NaN</td>\n",
       "      <td>NaN</td>\n",
       "      <td>NaN</td>\n",
       "      <td>NaN</td>\n",
       "      <td>NaN</td>\n",
       "      <td>NaN</td>\n",
       "    </tr>\n",
       "    <tr>\n",
       "      <td>1</td>\n",
       "      <td>NaN</td>\n",
       "      <td>NaN</td>\n",
       "      <td>NaN</td>\n",
       "      <td>NaN</td>\n",
       "      <td>NaN</td>\n",
       "      <td>NaN</td>\n",
       "      <td>NaN</td>\n",
       "      <td>NaN</td>\n",
       "    </tr>\n",
       "    <tr>\n",
       "      <td>2</td>\n",
       "      <td>NaN</td>\n",
       "      <td>NaN</td>\n",
       "      <td>NaN</td>\n",
       "      <td>NaN</td>\n",
       "      <td>NaN</td>\n",
       "      <td>NaN</td>\n",
       "      <td>NaN</td>\n",
       "      <td>NaN</td>\n",
       "    </tr>\n",
       "  </tbody>\n",
       "</table>\n",
       "</div>"
      ],
      "text/plain": [
       "    0  100%Count  75%Count  AssessmentsComplete  AssessmentsEnrolled Date  \\\n",
       "0 NaN        NaN       NaN                  NaN                  NaN  NaN   \n",
       "1 NaN        NaN       NaN                  NaN                  NaN  NaN   \n",
       "2 NaN        NaN       NaN                  NaN                  NaN  NaN   \n",
       "\n",
       "   EmpCount Month  \n",
       "0       NaN   NaN  \n",
       "1       NaN   NaN  \n",
       "2       NaN   NaN  "
      ]
     },
     "execution_count": 35,
     "metadata": {},
     "output_type": "execute_result"
    }
   ],
   "source": [
    "testfile.add(pd.DataFrame(HundredTest))"
   ]
  },
  {
   "cell_type": "code",
   "execution_count": 37,
   "metadata": {},
   "outputs": [
    {
     "data": {
      "text/html": [
       "<div>\n",
       "<style scoped>\n",
       "    .dataframe tbody tr th:only-of-type {\n",
       "        vertical-align: middle;\n",
       "    }\n",
       "\n",
       "    .dataframe tbody tr th {\n",
       "        vertical-align: top;\n",
       "    }\n",
       "\n",
       "    .dataframe thead th {\n",
       "        text-align: right;\n",
       "    }\n",
       "</style>\n",
       "<table border=\"1\" class=\"dataframe\">\n",
       "  <thead>\n",
       "    <tr style=\"text-align: right;\">\n",
       "      <th></th>\n",
       "      <th>0</th>\n",
       "      <th>100%Count</th>\n",
       "      <th>75%Count</th>\n",
       "      <th>AssessmentsComplete</th>\n",
       "      <th>AssessmentsEnrolled</th>\n",
       "      <th>Date</th>\n",
       "      <th>EmpCount</th>\n",
       "      <th>Month</th>\n",
       "    </tr>\n",
       "  </thead>\n",
       "  <tbody>\n",
       "    <tr>\n",
       "      <td>0</td>\n",
       "      <td>NaN</td>\n",
       "      <td>10.0</td>\n",
       "      <td>12.0</td>\n",
       "      <td>295.0</td>\n",
       "      <td>103.0</td>\n",
       "      <td>30-Oct</td>\n",
       "      <td>34.0</td>\n",
       "      <td>Oct</td>\n",
       "    </tr>\n",
       "    <tr>\n",
       "      <td>1</td>\n",
       "      <td>NaN</td>\n",
       "      <td>12.0</td>\n",
       "      <td>18.0</td>\n",
       "      <td>383.0</td>\n",
       "      <td>134.0</td>\n",
       "      <td>30-Nov</td>\n",
       "      <td>34.0</td>\n",
       "      <td>Nov</td>\n",
       "    </tr>\n",
       "    <tr>\n",
       "      <td>2</td>\n",
       "      <td>NaN</td>\n",
       "      <td>13.0</td>\n",
       "      <td>21.0</td>\n",
       "      <td>421.0</td>\n",
       "      <td>148.0</td>\n",
       "      <td>15-Dec</td>\n",
       "      <td>34.0</td>\n",
       "      <td>Dec</td>\n",
       "    </tr>\n",
       "    <tr>\n",
       "      <td>0</td>\n",
       "      <td>11.846613</td>\n",
       "      <td>NaN</td>\n",
       "      <td>NaN</td>\n",
       "      <td>NaN</td>\n",
       "      <td>NaN</td>\n",
       "      <td>NaN</td>\n",
       "      <td>NaN</td>\n",
       "      <td>NaN</td>\n",
       "    </tr>\n",
       "    <tr>\n",
       "      <td>1</td>\n",
       "      <td>18.081318</td>\n",
       "      <td>NaN</td>\n",
       "      <td>NaN</td>\n",
       "      <td>NaN</td>\n",
       "      <td>NaN</td>\n",
       "      <td>NaN</td>\n",
       "      <td>NaN</td>\n",
       "      <td>NaN</td>\n",
       "    </tr>\n",
       "    <tr>\n",
       "      <td>2</td>\n",
       "      <td>20.864813</td>\n",
       "      <td>NaN</td>\n",
       "      <td>NaN</td>\n",
       "      <td>NaN</td>\n",
       "      <td>NaN</td>\n",
       "      <td>NaN</td>\n",
       "      <td>NaN</td>\n",
       "      <td>NaN</td>\n",
       "    </tr>\n",
       "  </tbody>\n",
       "</table>\n",
       "</div>"
      ],
      "text/plain": [
       "           0  100%Count  75%Count  AssessmentsComplete  AssessmentsEnrolled  \\\n",
       "0        NaN       10.0      12.0                295.0                103.0   \n",
       "1        NaN       12.0      18.0                383.0                134.0   \n",
       "2        NaN       13.0      21.0                421.0                148.0   \n",
       "0  11.846613        NaN       NaN                  NaN                  NaN   \n",
       "1  18.081318        NaN       NaN                  NaN                  NaN   \n",
       "2  20.864813        NaN       NaN                  NaN                  NaN   \n",
       "\n",
       "     Date  EmpCount Month  \n",
       "0  30-Oct      34.0   Oct  \n",
       "1  30-Nov      34.0   Nov  \n",
       "2  15-Dec      34.0   Dec  \n",
       "0     NaN       NaN   NaN  \n",
       "1     NaN       NaN   NaN  \n",
       "2     NaN       NaN   NaN  "
      ]
     },
     "execution_count": 37,
     "metadata": {},
     "output_type": "execute_result"
    }
   ],
   "source": [
    "testfile.append(pd.DataFrame(SeventyfiveTest))"
   ]
  },
  {
   "cell_type": "code",
   "execution_count": 38,
   "metadata": {},
   "outputs": [
    {
     "data": {
      "text/plain": [
       "array([ 6.13114635,  9.19509802, 10.55428324])"
      ]
     },
     "execution_count": 38,
     "metadata": {},
     "output_type": "execute_result"
    }
   ],
   "source": [
    "HundredTest"
   ]
  },
  {
   "cell_type": "code",
   "execution_count": null,
   "metadata": {},
   "outputs": [],
   "source": []
  }
 ],
 "metadata": {
  "kernelspec": {
   "display_name": "Python 3",
   "language": "python",
   "name": "python3"
  },
  "language_info": {
   "codemirror_mode": {
    "name": "ipython",
    "version": 3
   },
   "file_extension": ".py",
   "mimetype": "text/x-python",
   "name": "python",
   "nbconvert_exporter": "python",
   "pygments_lexer": "ipython3",
   "version": "3.7.4"
  }
 },
 "nbformat": 4,
 "nbformat_minor": 2
}
